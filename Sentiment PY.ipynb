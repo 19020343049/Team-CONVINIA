{
 "cells": [
  {
   "cell_type": "code",
   "execution_count": 1,
   "metadata": {},
   "outputs": [
    {
     "name": "stdout",
     "output_type": "stream",
     "text": [
      "Collecting tweepy\n",
      "  Downloading https://files.pythonhosted.org/packages/36/1b/2bd38043d22ade352fc3d3902cf30ce0e2f4bf285be3b304a2782a767aec/tweepy-3.8.0-py2.py3-none-any.whl\n",
      "Requirement already satisfied: six>=1.10.0 in c:\\users\\hp\\anaconda3\\lib\\site-packages (from tweepy) (1.12.0)\n",
      "Requirement already satisfied: requests>=2.11.1 in c:\\users\\hp\\anaconda3\\lib\\site-packages (from tweepy) (2.22.0)\n",
      "Requirement already satisfied: PySocks>=1.5.7 in c:\\users\\hp\\anaconda3\\lib\\site-packages (from tweepy) (1.7.1)\n",
      "Requirement already satisfied: requests-oauthlib>=0.7.0 in c:\\users\\hp\\anaconda3\\lib\\site-packages (from tweepy) (1.3.0)\n",
      "Requirement already satisfied: chardet<3.1.0,>=3.0.2 in c:\\users\\hp\\anaconda3\\lib\\site-packages (from requests>=2.11.1->tweepy) (3.0.4)\n",
      "Requirement already satisfied: idna<2.9,>=2.5 in c:\\users\\hp\\anaconda3\\lib\\site-packages (from requests>=2.11.1->tweepy) (2.8)\n",
      "Requirement already satisfied: urllib3!=1.25.0,!=1.25.1,<1.26,>=1.21.1 in c:\\users\\hp\\anaconda3\\lib\\site-packages (from requests>=2.11.1->tweepy) (1.24.2)\n",
      "Requirement already satisfied: certifi>=2017.4.17 in c:\\users\\hp\\anaconda3\\lib\\site-packages (from requests>=2.11.1->tweepy) (2019.9.11)\n",
      "Requirement already satisfied: oauthlib>=3.0.0 in c:\\users\\hp\\anaconda3\\lib\\site-packages (from requests-oauthlib>=0.7.0->tweepy) (3.1.0)\n",
      "Installing collected packages: tweepy\n",
      "Successfully installed tweepy-3.8.0\n",
      "Note: you may need to restart the kernel to use updated packages.\n"
     ]
    }
   ],
   "source": [
    "pip install tweepy"
   ]
  },
  {
   "cell_type": "code",
   "execution_count": 1,
   "metadata": {},
   "outputs": [
    {
     "name": "stdout",
     "output_type": "stream",
     "text": [
      "Collecting textblob\n",
      "  Downloading https://files.pythonhosted.org/packages/60/f0/1d9bfcc8ee6b83472ec571406bd0dd51c0e6330ff1a51b2d29861d389e85/textblob-0.15.3-py2.py3-none-any.whl (636kB)\n",
      "Requirement already satisfied: nltk>=3.1 in c:\\users\\hp\\anaconda3\\lib\\site-packages (from textblob) (3.4.5)\n",
      "Requirement already satisfied: six in c:\\users\\hp\\anaconda3\\lib\\site-packages (from nltk>=3.1->textblob) (1.12.0)\n",
      "Installing collected packages: textblob\n",
      "Successfully installed textblob-0.15.3\n",
      "Note: you may need to restart the kernel to use updated packages.\n"
     ]
    }
   ],
   "source": [
    "pip install textblob"
   ]
  },
  {
   "cell_type": "code",
   "execution_count": 2,
   "metadata": {},
   "outputs": [],
   "source": [
    "import re \n",
    "import tweepy \n",
    "from tweepy import OAuthHandler \n",
    "from textblob import TextBlob"
   ]
  },
  {
   "cell_type": "code",
   "execution_count": 4,
   "metadata": {},
   "outputs": [],
   "source": [
    "class TwitterClient(object): \n",
    "    ''' \n",
    "    Generic Twitter Class for sentiment analysis. \n",
    "    '''\n",
    "    def __init__(self): \n",
    "        ''' \n",
    "        Class constructor or initialization method. \n",
    "        '''\n",
    "        # keys and tokens from the Twitter Dev Console \n",
    "        consumer_key = 'AgnlboLoCE8D8mGD306NV52HP'\n",
    "        consumer_secret = 'zTGF55AeviuW7qiqHD8RWdNXkekknhKiJXTtnlfpLlRtX9qF2O'\n",
    "        access_token = '1266975421851107328-1Nse3PejLEb6k4b2CA7qmtz1V2XH83'\n",
    "        access_token_secret = 'Mx9kOr9MSHVyq239U18PmDeTA8P58rziIAfmVWlawMEkJ'\n",
    "  \n",
    "        # attempt authentication \n",
    "        try: \n",
    "            # create OAuthHandler object \n",
    "            self.auth = OAuthHandler(consumer_key, consumer_secret) \n",
    "            # set access token and secret \n",
    "            self.auth.set_access_token(access_token, access_token_secret) \n",
    "            # create tweepy API object to fetch tweets \n",
    "            self.api = tweepy.API(self.auth) \n",
    "        except: \n",
    "            print(\"Error: Authentication Failed\") \n",
    "  \n",
    "    def clean_tweet(self, tweet): \n",
    "        ''' \n",
    "        Utility function to clean tweet text by removing links, special characters \n",
    "        using simple regex statements. \n",
    "        '''\n",
    "        return ' '.join(re.sub(\"(@[A-Za-z0-9]+)|([^0-9A-Za-z \\t]) |(\\w+:\\/\\/\\S+)\", \" \", tweet).split()) \n",
    "  \n",
    "    def get_tweet_sentiment(self, tweet): \n",
    "        ''' \n",
    "        Utility function to classify sentiment of passed tweet \n",
    "        using textblob's sentiment method \n",
    "        '''\n",
    "        # create TextBlob object of passed tweet text \n",
    "        analysis = TextBlob(self.clean_tweet(tweet)) \n",
    "        # set sentiment \n",
    "        if analysis.sentiment.polarity > 0: \n",
    "            return 'positive'\n",
    "        elif analysis.sentiment.polarity == 0: \n",
    "            return 'neutral'\n",
    "        else: \n",
    "            return 'negative'\n",
    "  \n",
    "    def get_tweets(self, query, count = 10): \n",
    "        ''' \n",
    "        Main function to fetch tweets and parse them. \n",
    "        '''\n",
    "        # empty list to store parsed tweets \n",
    "        tweets = [] \n",
    "  \n",
    "        try: \n",
    "            # call twitter api to fetch tweets \n",
    "            fetched_tweets = self.api.search(q = query, count = count) \n",
    "  \n",
    "            # parsing tweets one by one \n",
    "            for tweet in fetched_tweets: \n",
    "                # empty dictionary to store required params of a tweet \n",
    "                parsed_tweet = {} \n",
    "  \n",
    "                # saving text of tweet \n",
    "                parsed_tweet['text'] = tweet.text \n",
    "                # saving sentiment of tweet \n",
    "                parsed_tweet['sentiment'] = self.get_tweet_sentiment(tweet.text) \n",
    "  \n",
    "                # appending parsed tweet to tweets list \n",
    "                if tweet.retweet_count > 0: \n",
    "                    # if tweet has retweets, ensure that it is appended only once \n",
    "                    if parsed_tweet not in tweets: \n",
    "                        tweets.append(parsed_tweet) \n",
    "                else: \n",
    "                    tweets.append(parsed_tweet) \n",
    "  \n",
    "            # return parsed tweets \n",
    "            return tweets \n",
    "  \n",
    "        except tweepy.TweepError as e: \n",
    "            # print error (if any) \n",
    "            print(\"Error : \" + str(e)) "
   ]
  },
  {
   "cell_type": "code",
   "execution_count": 17,
   "metadata": {},
   "outputs": [],
   "source": [
    "# creating object of TwitterClient Class \n",
    "api = TwitterClient() \n",
    "# calling function to get tweets \n",
    "tweets = api.get_tweets(query = 'CORONA' or 'COVID' or 'coronavirus' or 'COVID-19', count = 200) "
   ]
  },
  {
   "cell_type": "code",
   "execution_count": 18,
   "metadata": {},
   "outputs": [
    {
     "name": "stdout",
     "output_type": "stream",
     "text": [
      "Positive tweets percentage: 21.951219512195124 %\n",
      "Negative tweets percentage: 20.73170731707317 %\n"
     ]
    }
   ],
   "source": [
    "# picking positive tweets from tweets \n",
    "ptweets = [tweet for tweet in tweets if tweet['sentiment'] == 'positive'] \n",
    "# percentage of positive tweets \n",
    "print(\"Positive tweets percentage: {} %\".format(100*len(ptweets)/len(tweets))) \n",
    "# picking negative tweets from tweets \n",
    "ntweets = [tweet for tweet in tweets if tweet['sentiment'] == 'negative'] \n",
    "# percentage of negative tweets \n",
    "print(\"Negative tweets percentage: {} %\".format(100*len(ntweets)/len(tweets))) "
   ]
  },
  {
   "cell_type": "code",
   "execution_count": 19,
   "metadata": {},
   "outputs": [
    {
     "name": "stdout",
     "output_type": "stream",
     "text": [
      "\n",
      "\n",
      "Positive tweets:\n",
      "RT @sardesairajdeep: Lovely Sunday read: Bombay, then and now. Long before Corona there was plague: do read.. https://t.co/9VjLohZDV8\n",
      "Ayo seseruan\n",
      "Refreshing Otak\n",
      "Biar tetap waras meskipun di tengah wabah corona. \n",
      "\n",
      "TEST IQ ANDA\n",
      "\n",
      "Klik tautan ini :… https://t.co/ylNJRQ3bAd\n",
      "RT @the_only_ayo: The facts that Corona isn’t the greatest thing we’re battling right now is really scary and sad\n",
      "RT @YRDeshmukh: The bottom line is: we can not escape from the Corona Virus. Those 80% who will be asymptomatic or with mild symptoms will…\n",
      "Emergency in Los Angeles, not due to Corona, but Looting, Fire,Confrontation with Police Something never heard of. US IN CHAOS!!!\n",
      "RT @Shreyaj68170901: Students are the best revenue source, because of their examination fees, the MP government wants to take the exam's.…\n",
      "@SamKhan999 Exactly. They've already reduced brahmins to 10%\n",
      "Jihadi mission successful.\n",
      "But Modi is such a pain in… https://t.co/qjNhBzsJoX\n",
      "@tjeckholt2015 @BreezerMe @pantomath__ @realDonaldTrump Ok wonderful to hear that. But a majority of them were comp… https://t.co/IyvTq5AMlP\n",
      "@kumarmanish9 Except health workers..rest good works r just on d paper. And they r controlling numbers not Corona.\n",
      "Students are the best source of revenue for Universities. Now RGPV is conducting exams to collect exam fees by risk… https://t.co/NqYnl380Ni\n",
      "\n",
      "\n",
      "Negative tweets:\n",
      "RT @ishathepoet: Y’all couldn’t impose a curfew, no REAL STRICT stay at home order for Corona but y’all was SPEEDY with this eight pm curfe…\n",
      "ना चमगादड़ ना चीन... \n",
      "corona ले कर आया Alien, How Mean !! \n",
      "\n",
      "\"TV में तो ऐसा ही बता रहे थे\"\n",
      "#garvitguitarcomedy\n",
      "\n",
      "#GGC… https://t.co/ZCd4DrPjb5\n",
      "RT @Sanjeev80982748: The government closed the colleges when there were only 1-2 patients of covid-19 in the state but they are reopening i…\n",
      "RT @JerseyEric29: Second wave of Corona, mass unemployment &amp; no checks...\n",
      "\n",
      "Scary hours coming  this summer\n",
      "They already getting fucked over because of the corona. Now looters making it even worse. Hell is hot.\n",
      "RT @KeyGLOCK: I don’t hear no corona shit now..\n",
      "RT @latimeralder: Does anyone still think Corona is going to threaten the futire of our civilisation?\n",
      "\n",
      "Or is it the hysterical, suicidal ov…\n",
      "RT @VillageParrot: At this point, Corona is tired of what’s going on in the world.\n",
      "@sahouraxo Corona be like 😂are you serious I am still alive and killing million people in the USA and you want I fuck the whole USA\n",
      "RT @yadavtejashwi: At a time of this humanitarian crisis, the governance in Bihar and Corona virus share a strange similarity. They both ar…\n"
     ]
    }
   ],
   "source": [
    "# printing first 5 positive tweets \n",
    "print(\"\\n\\nPositive tweets:\")\n",
    "for tweet in ptweets[:10]: \n",
    "    print(tweet['text']) \n",
    "  \n",
    "# printing first 5 negative tweets \n",
    "print(\"\\n\\nNegative tweets:\") \n",
    "for tweet in ntweets[:10]:\n",
    "    print(tweet['text']) "
   ]
  }
 ],
 "metadata": {
  "kernelspec": {
   "display_name": "Python 3",
   "language": "python",
   "name": "python3"
  },
  "language_info": {
   "codemirror_mode": {
    "name": "ipython",
    "version": 3
   },
   "file_extension": ".py",
   "mimetype": "text/x-python",
   "name": "python",
   "nbconvert_exporter": "python",
   "pygments_lexer": "ipython3",
   "version": "3.7.4"
  }
 },
 "nbformat": 4,
 "nbformat_minor": 2
}
