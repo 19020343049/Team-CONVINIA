{
 "cells": [
  {
   "cell_type": "code",
   "execution_count": 9,
   "metadata": {},
   "outputs": [
    {
     "name": "stdout",
     "output_type": "stream",
     "text": [
      "Collecting twitter\n",
      "  Downloading https://files.pythonhosted.org/packages/85/e2/f602e3f584503f03e0389491b251464f8ecfe2596ac86e6b9068fe7419d3/twitter-1.18.0-py2.py3-none-any.whl (54kB)\n",
      "Installing collected packages: twitter\n",
      "Successfully installed twitter-1.18.0\n",
      "Note: you may need to restart the kernel to use updated packages.\n"
     ]
    }
   ],
   "source": [
    "pip install twitter"
   ]
  },
  {
   "cell_type": "code",
   "execution_count": 10,
   "metadata": {},
   "outputs": [],
   "source": [
    "import twitter"
   ]
  },
  {
   "cell_type": "code",
   "execution_count": 11,
   "metadata": {},
   "outputs": [],
   "source": [
    "CONSUMER_KEY=\"AgnlboLoCE8D8mGD306NV52HP\"\n",
    "#Replace with your consumerKey\n",
    "CONSUMER_SECRET=\"zTGF55AeviuW7qiqHD8RWdNXkekknhKiJXTtnlfpLlRtX9qF2O\"\n",
    "#Replace with your consumerSecret\n",
    "OAUTH_TOKEN=\"1266975421851107328-juQcFThlBlyra6qd3A4AMqqTrXDibH\"\n",
    "#Replace with your accesstoken\n",
    "OAUTH_TOKEN_SECRET=\"LhRKi4Cna87r4ttrzwCEjhWB1sFLMKGA2th9UwA8gwnHo\"\n",
    "#Replace with your accesssecret\n"
   ]
  },
  {
   "cell_type": "code",
   "execution_count": 12,
   "metadata": {},
   "outputs": [],
   "source": [
    "auth = twitter.oauth.OAuth(OAUTH_TOKEN, OAUTH_TOKEN_SECRET,\n",
    "                           CONSUMER_KEY, CONSUMER_SECRET)\n",
    "\n"
   ]
  },
  {
   "cell_type": "code",
   "execution_count": 14,
   "metadata": {},
   "outputs": [
    {
     "name": "stdout",
     "output_type": "stream",
     "text": [
      "<twitter.api.Twitter object at 0x000001F2F2FA15C8>\n"
     ]
    }
   ],
   "source": [
    "twitter_api = twitter.Twitter(auth=auth)\n",
    "\n",
    "# Nothing to see by displaying twitter_api except that it's now a\n",
    "# defined variable\n",
    "\n",
    "print(twitter_api)"
   ]
  },
  {
   "cell_type": "code",
   "execution_count": 15,
   "metadata": {},
   "outputs": [],
   "source": [
    "WORLD_WOE_ID = 1\n",
    "US_WOE_ID = 23424977\n",
    "INDIA_WOE_ID = 23424848"
   ]
  },
  {
   "cell_type": "code",
   "execution_count": 16,
   "metadata": {},
   "outputs": [
    {
     "name": "stdout",
     "output_type": "stream",
     "text": [
      "#AllHeartsWithSidharth ----- 518244\n",
      "#MannKiBaat ----- 93881\n",
      "#WorldNoTobaccoDay ----- 69949\n",
      "#YouFailedBankers ----- 43674\n",
      "#SarkaruVaariPaata ----- 1461986\n",
      "Anonymous ----- 1170046\n",
      "Mann Ki Baat ----- None\n",
      "Jai Mahesh ----- None\n",
      "Nike ----- 430108\n",
      "Appam ----- None\n",
      "Louis Vuitton ----- 78389\n",
      "Julia Roberts ----- None\n",
      "Boycott China ----- 10507\n",
      "#sundayvibes ----- 14328\n",
      "#PayOurRoomRent ----- 51714\n",
      "#ResumeGujRecruits ----- 589230\n",
      "#अहिल्यादेवी_होल्कर_जयंती ----- 22969\n",
      "#AskPT ----- None\n",
      "#GeorgeFloydProtests ----- 292588\n",
      "#InvestInMithila ----- 43372\n",
      "#1YearOfCultNGK ----- 159787\n",
      "#UnlockIndiaDebate ----- None\n",
      "#WeLoveShehnaaz ----- 25327\n",
      "#rgpv_spreading_corona_virus ----- None\n",
      "#देश_चलाना_खेल_नही_है ----- 24798\n",
      "#52_Cruelities_On_GodKabir ----- 393679\n",
      "#PurneaAirport ----- 12476\n",
      "#riots2020 ----- 591848\n",
      "#भटकी_रेल_EconomyFail ----- 12505\n",
      "#7YearsOfYJHD ----- None\n",
      "#HyderabadRains ----- None\n",
      "#G7Summit ----- None\n",
      "#Thalapathi_Makes_History ----- None\n",
      "#TajMahal ----- None\n",
      "#SundayFunday ----- None\n",
      "#साथी_मजबूत_तो_मैं_मजबूत ----- None\n",
      "#MaheshBabu ----- 129625\n",
      "#Dapaan ----- None\n",
      "#DHANUSH_RulerOfKollywood ----- 67901\n",
      "#AhilyaBaiHolkarJayanti ----- None\n",
      "#मैं_योग_शिक्षक_हूँ ----- 367753\n",
      "#ARS_Recruitment ----- 17133\n",
      "#ButtaBomma ----- None\n",
      "#Jilla ----- None\n",
      "#minsarakanavu ----- None\n",
      "#askhemant ----- None\n",
      "#AllLivesMatter ----- 104078\n",
      "#AladdinOnStarMovies ----- None\n",
      "#May31stVCKProtest ----- 23003\n"
     ]
    }
   ],
   "source": [
    "india_trends = twitter_api.trends.place(_id=INDIA_WOE_ID)\n",
    " \n",
    "for trending in india_trends[0]['trends']:\n",
    "    print(trending['name'], '-----' , trending['tweet_volume'])"
   ]
  },
  {
   "cell_type": "code",
   "execution_count": 17,
   "metadata": {},
   "outputs": [
    {
     "name": "stdout",
     "output_type": "stream",
     "text": [
      "コントレイル ----- 99974\n",
      "Anonymous ----- 1148428\n",
      "#キスマイWEBFES ----- 76865\n",
      "#SUPERJUNIOR_BeyondLIVE ----- 259718\n",
      "#荒野CHAMP ----- 48613\n",
      "目黒記念 ----- 19503\n",
      "#あなたはどこ県民っぽいか ----- None\n",
      "ダービー ----- 99495\n",
      "#LoveWin3Million ----- 155357\n",
      "ヴェルトライゼンデ ----- 11013\n",
      "石言葉 ----- 33698\n",
      "Woodley ----- 33516\n",
      "菊花賞 ----- None\n",
      "ワイド ----- 15249\n",
      "安田記念 ----- None\n",
      "ノーブルマーズ ----- None\n",
      "#愛していると言ってくれ ----- 11764\n",
      "#このファン紅魔族名乗りメーカー ----- None\n",
      "#JusticeForUwa ----- 15718\n",
      "#ミリオンLIVE一挙放送day2 ----- 69695\n",
      "#AllHeartsWithSidharth ----- 507276\n",
      "#pazar ----- 12727\n",
      "#OruçAruoba ----- None\n",
      "#NRLPanthersKnights ----- None\n",
      "#SindhRejectsBogusDomiciles ----- 192168\n",
      "#GeorgeFloydProtests ----- 290568\n",
      "#WorldNoTobaccoDay ----- 69215\n",
      "#MannKiBaat ----- 92611\n",
      "#عطنا_كلمه_للحب ----- 18170\n",
      "#鮮やかなマーブル描けばいい ----- 248894\n",
      "#LGBTQnoTedio ----- 11301\n",
      "#FreeRota ----- 26567\n",
      "#Amillionlittlethings ----- 26836\n",
      "#شهد_القفاري_اخرسي ----- None\n",
      "#To_TOO ----- None\n",
      "#家だけにYeah ----- None\n",
      "#LiveBaileDoDennis ----- 37592\n",
      "#NangTumigilAngMundo ----- None\n",
      "#FelizDomingo ----- None\n",
      "#SarkaruVaariPaata ----- 1447379\n",
      "#صلاه_الفجر ----- 169555\n",
      "#ClintEastwood ----- None\n",
      "#YouFailedBankers ----- 42777\n",
      "#ハピクロ ----- None\n",
      "#4YearsofCLS ----- 26616\n",
      "#SundayThoughts ----- 12528\n",
      "#プリコネR ----- 100916\n",
      "#31maggio ----- None\n",
      "#GLAY ----- None\n",
      "#PayOurRoomRent ----- 50208\n"
     ]
    }
   ],
   "source": [
    "world_trends = twitter_api.trends.place(_id=WORLD_WOE_ID)\n",
    " \n",
    "for trending in world_trends[0]['trends']:\n",
    "    print(trending['name'], '-----' , trending['tweet_volume'])"
   ]
  },
  {
   "cell_type": "code",
   "execution_count": 18,
   "metadata": {},
   "outputs": [
    {
     "name": "stdout",
     "output_type": "stream",
     "text": [
      "Anonymous ----- 1170046\n",
      "Santa Ana ----- 26705\n",
      "Woodley ----- 33484\n",
      "La Mesa ----- 53715\n",
      "SWORD ----- 172919\n",
      "#campingworld ----- None\n",
      "Telemundo ----- 57550\n",
      "V for Vendetta ----- 14441\n",
      "Cheesecake Factory ----- 28784\n",
      "Don Lemon ----- 42893\n",
      "John Cusack ----- None\n",
      "Melrose ----- 17015\n",
      "Grand Rapids ----- 19046\n",
      "#LosAngelesriots ----- 62641\n",
      "Univision ----- 51816\n",
      "Fashion Square ----- None\n",
      "Flight Club ----- 20497\n",
      "Expect Us ----- 33490\n",
      "#SUPERJUNIOR_BeyondLIVE ----- 272494\n",
      "Taika ----- None\n",
      "Reno ----- 29169\n",
      "#Toonami ----- None\n",
      "Hawkeye ----- 26688\n",
      "Vons ----- None\n",
      "#To_TOO ----- None\n",
      "Emeryville ----- None\n",
      "Curfew ----- 452404\n",
      "De Blasio ----- 41226\n",
      "CA EXEMPT ----- None\n",
      "Round Two ----- None\n",
      "Camden ----- 38371\n",
      "Central Camera ----- None\n",
      "Bratz ----- None\n",
      "korey ----- 40768\n",
      "Tyron ----- 11342\n",
      "Garcetti ----- 33760\n",
      "Sharif ----- 28956\n",
      "Little Rock ----- 14901\n",
      "inkigayo ----- 79057\n",
      "SUVs ----- 16952\n",
      "#shippuden ----- None\n",
      "#LoveWin3Million ----- 169794\n",
      "#BlackClover ----- None\n",
      "#WalkWithUs ----- None\n",
      "#ChicagoScanner ----- 26974\n",
      "#SeductiveSunday ----- None\n"
     ]
    }
   ],
   "source": [
    "us_trends = twitter_api.trends.place(_id=US_WOE_ID)\n",
    " \n",
    "for trending in us_trends[0]['trends']:\n",
    "    print(trending['name'], '-----' , trending['tweet_volume'])"
   ]
  }
 ],
 "metadata": {
  "kernelspec": {
   "display_name": "Python 3",
   "language": "python",
   "name": "python3"
  },
  "language_info": {
   "codemirror_mode": {
    "name": "ipython",
    "version": 3
   },
   "file_extension": ".py",
   "mimetype": "text/x-python",
   "name": "python",
   "nbconvert_exporter": "python",
   "pygments_lexer": "ipython3",
   "version": "3.7.4"
  }
 },
 "nbformat": 4,
 "nbformat_minor": 2
}
